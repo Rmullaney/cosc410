{
 "cells": [
  {
   "cell_type": "markdown",
   "id": "448a4a12-3ec8-4d70-b61b-463ef0acd776",
   "metadata": {},
   "source": [
    "# HW 1: Applying the ML pipeline\n",
    "\n",
    "### COSC 410B: Spring 2025, Colgate University\n",
    "\n"
   ]
  },
  {
   "cell_type": "markdown",
   "id": "6320f14c-f72e-42cb-8308-82484dfe7fa4",
   "metadata": {},
   "source": [
    "## Instructions\n",
    "\n",
    "In this HW you will apply the ML pipeline by using KNN models to predict student exam factors using several different features. Concretely, you will be working with the [Student Performance Factors](https://www.kaggle.com/datasets/lainguyn123/student-performance-factors?resource=download) on Kaggle. \n",
    "\n",
    "**Your task is to predict exam scores in this dataset as well as you can.**  \n",
    "\n",
    "#### The ML Pipeline\n",
    "\n",
    "1. Preprocess the data and split it into train and test (no need for validation set because we will use k-fold cross-validation). For this homework use 80% of the data for training, and 20% for evaluation. \n",
    "2. Exploring the training data: What are the input features you could use? What features do you want to use and explore? Why? The answers to this can either be theory driven or data-driven. \n",
    "3. Explore different features and hyperparameters with k-fold cross validation. Pick the best model (i.e., feature set and hyperparameter combination)\n",
    "4. Evaluate the best model and discuss the results.\n",
    "\n",
    "You should structure the code and writing in this notebook in format that makes it easy to follow along with your thought process and argument. \n",
    "\n",
    "\n",
    "#### Questions to answer before you start\n",
    "* Will you use KNN-regression or KNN-classification? Why? \n",
    "* How will you handle non-numerical columns?\n",
    "* You will notice that many of the columns are on different scales. Why is this a problem for KNN models? How can you handle this? "
   ]
  },
  {
   "cell_type": "markdown",
   "id": "ef0c3e4b-2324-4458-a8cc-2e0eefc36d0c",
   "metadata": {},
   "source": [
    "**[WRITE YOUR ANSWERS HERE]**"
   ]
  },
  {
   "cell_type": "markdown",
   "id": "1c66fcae-209a-4fbb-80e3-e33b55bdca5e",
   "metadata": {},
   "source": [
    "## Your report\n",
    "\n",
    "Add code and markdown chunks for your data analysis report here"
   ]
  },
  {
   "cell_type": "markdown",
   "id": "470298a0",
   "metadata": {},
   "source": [
    "First I want to analyze the data a little bit to understand what I'm working with.\n",
    "\n",
    "Column and associated data type:\n",
    "- Hours_Studied: continuous\n",
    "- Attendance: continuous\n",
    "- Parental_involvement: low-medium-high classes\n",
    "- Access_to_Resources: low-medium-high classes\n",
    "- Extracurricular_Activities: yes-no classes\n",
    "- Sleep_Hours: continuous\n",
    "- Previous_Scores: continuous\n",
    "- Motivation_Level: low-medium-high\n",
    "- Internet_Access: yes-no classes\n",
    "- Tutoring_Sessions: continuous\n",
    "- Family_Income: low-medium-high classes\n",
    "- Teacher_Quality: low-medium-high classes\n",
    "\n",
    "This is the first few columns, but I'm not sure it's necessary for every column. It seems as though there's an even split between classes and continuous inputs, though some of the continuous input could be termed classes if needed (sleep hours is a natural number between 6ish and 10ish, so really only 5ish options)\n",
    "\n"
   ]
  },
  {
   "cell_type": "code",
   "execution_count": null,
   "id": "11242111-3da3-4fd4-acc2-b85799942006",
   "metadata": {},
   "outputs": [],
   "source": []
  }
 ],
 "metadata": {
  "kernelspec": {
   "display_name": "cosc410",
   "language": "python",
   "name": "cosc410"
  },
  "language_info": {
   "codemirror_mode": {
    "name": "ipython",
    "version": 3
   },
   "file_extension": ".py",
   "mimetype": "text/x-python",
   "name": "python",
   "nbconvert_exporter": "python",
   "pygments_lexer": "ipython3",
   "version": "3.10.16"
  }
 },
 "nbformat": 4,
 "nbformat_minor": 5
}
