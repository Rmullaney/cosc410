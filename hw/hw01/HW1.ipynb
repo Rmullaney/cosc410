{
 "cells": [
  {
   "cell_type": "markdown",
   "id": "448a4a12-3ec8-4d70-b61b-463ef0acd776",
   "metadata": {},
   "source": [
    "# HW 1: Applying the ML pipeline\n",
    "\n",
    "### COSC 410B: Spring 2025, Colgate University\n",
    "\n"
   ]
  },
  {
   "cell_type": "markdown",
   "id": "6320f14c-f72e-42cb-8308-82484dfe7fa4",
   "metadata": {},
   "source": [
    "## Instructions\n",
    "\n",
    "In this HW you will apply the ML pipeline by using KNN models to predict student exam factors using several different features. Concretely, you will be working with the [Student Performance Factors](https://www.kaggle.com/datasets/lainguyn123/student-performance-factors?resource=download) on Kaggle. \n",
    "\n",
    "**Your task is to predict exam scores in this dataset as well as you can.**  \n",
    "\n",
    "#### The ML Pipeline\n",
    "\n",
    "1. Preprocess the data and split it into train and test (no need for validation set because we will use k-fold cross-validation). For this homework use 80% of the data for training, and 20% for evaluation. \n",
    "2. Exploring the training data: What are the input features you could use? What features do you want to use and explore? Why? The answers to this can either be theory driven or data-driven. \n",
    "3. Explore different features and hyperparameters with k-fold cross validation. Pick the best model (i.e., feature set and hyperparameter combination)\n",
    "4. Evaluate the best model and discuss the results.\n",
    "\n",
    "You should structure the code and writing in this notebook in format that makes it easy to follow along with your thought process and argument. \n",
    "\n",
    "\n",
    "#### Questions to answer before you start\n",
    "* Will you use KNN-regression or KNN-classification? Why? \n",
    "* How will you handle non-numerical columns?\n",
    "* You will notice that many of the columns are on different scales. Why is this a problem for KNN models? How can you handle this? "
   ]
  },
  {
   "cell_type": "markdown",
   "id": "ef0c3e4b-2324-4458-a8cc-2e0eefc36d0c",
   "metadata": {},
   "source": [
    "**[WRITE YOUR ANSWERS HERE]**"
   ]
  },
  {
   "cell_type": "markdown",
   "id": "b57042a8",
   "metadata": {},
   "source": [
    "My thought processes and code are written below. I'll answer all the questions here though.\n",
    "Pre-lab questions:\n",
    "1) I used regression after converting class data into numbers. Otherwise we can't use euclidean distance on classes so most of the features would be useless\n",
    "2) As I said I converted them to numerical data based on general assumptions of their impact on performance\n",
    "3) I scaled everything down to within the 0-2 scale, that way no feature should have drastically more weight than another\n",
    "Lab Discussion:\n",
    "2) I want to use the data with the most information, which to me is data that isn't just split between three classes or two options. So data like attendance and previous scores are really attractive to me. Also, on the theory side, I feel like certain features will be more impactful than others, like sleep_hours, since sleep is really important\n",
    "4) OK so originally I was getting fscore of .05 or .06, but now it's around .01 or .00. I know this is terrible, but I'm not sure what is wrong with my approach. I think I have the approach with the k-fold stuff correct. I feel like there should be maybe half of the features in an ideal set - I don't think only two or three could work. For the k value, I went with a classic 10-fold split. The number of folds seemed to lightly increase accuracy, and 10 seems like a nice balance between accuracy and runtime (runtime increases as k increases)"
   ]
  },
  {
   "cell_type": "markdown",
   "id": "1c66fcae-209a-4fbb-80e3-e33b55bdca5e",
   "metadata": {},
   "source": [
    "## Your report\n",
    "\n",
    "Add code and markdown chunks for your data analysis report here"
   ]
  },
  {
   "cell_type": "markdown",
   "id": "470298a0",
   "metadata": {},
   "source": [
    "\n",
    "First, we're going to clean the data then fold it\n"
   ]
  },
  {
   "cell_type": "code",
   "execution_count": 137,
   "id": "11242111-3da3-4fd4-acc2-b85799942006",
   "metadata": {},
   "outputs": [
    {
     "name": "stderr",
     "output_type": "stream",
     "text": [
      "/var/folders/6q/dxd87__j3gl8p0k52jdzr6y80000gp/T/ipykernel_20269/849869124.py:46: FutureWarning: Downcasting behavior in `replace` is deprecated and will be removed in a future version. To retain the old behavior, explicitly call `result.infer_objects(copy=False)`. To opt-in to the future behavior, set `pd.set_option('future.no_silent_downcasting', True)`\n",
      "  df.replace({\"Low\" : 0, \"Medium\" : 1, \"High\" : 2, \"Negative\" : 0, \"Positive\" : 2, \"Neutral\" : 1, \"Private\" : 1, \"Public\" : 0, \"High School\" : 0, \"College\" : 1, \"Postgraduate\" : 2, \"Near\" : 2, \"Moderate\" : 1, \"Far\" : 0, \"Male\" : 0, \"Female\" : 1, \"Yes\" : 1, \"No\" : 0}, inplace=True)\n"
     ]
    }
   ],
   "source": [
    "import pandas as pd\n",
    "import numpy as np\n",
    "import KNN\n",
    "import util\n",
    "from importlib import reload\n",
    "reload(util)\n",
    "reload(KNN)\n",
    "\n",
    "## feature set development\n",
    "\n",
    "columns_to_remove = [#'Hours_Studied',\n",
    "                     #'Attendance',\n",
    "                     'Parental_Involvement',\n",
    "                     #'Access_to_Resources',\n",
    "                     #'Extracurricular_Activities',\n",
    "                     #'Sleep_Hours',\n",
    "                     #'Previous_Scores',\n",
    "                     'Motivation_Level',\n",
    "                     'Internet_Access',\n",
    "                     #'Tutoring_Sessions',\n",
    "                     #'Family_Income',\n",
    "                     #'Teacher_Quality',\n",
    "                     'School_Type',\n",
    "                     #'Peer_Influence',\n",
    "                     'Physical_Activity',\n",
    "                     #'Learning_Disabilities',\n",
    "                     #'Parental_Education_Level',\n",
    "                     'Distance_from_Home',\n",
    "                     'Gender',\n",
    "                     #'Exam_Score'\n",
    "                    ]\n",
    "\n",
    "## clean data into all continuous\n",
    "\n",
    "df = pd.read_csv(\"StudentPerformanceFactors.csv\")\n",
    "\n",
    "df = df.drop(columns=columns_to_remove)\n",
    "\n",
    "## scale\n",
    "\n",
    "df['Hours_Studied'] = df['Hours_Studied'] / 30\n",
    "df['Attendance'] = df['Attendance'] / 100\n",
    "df['Sleep_Hours'] = df['Sleep_Hours'] / 10\n",
    "df['Previous_Scores'] = df['Previous_Scores'] / 100\n",
    "\n",
    "## convert all to numerical\n",
    "\n",
    "df.replace({\"Low\" : 0, \"Medium\" : 1, \"High\" : 2, \"Negative\" : 0, \"Positive\" : 2, \"Neutral\" : 1, \"Private\" : 1, \"Public\" : 0, \"High School\" : 0, \"College\" : 1, \"Postgraduate\" : 2, \"Near\" : 2, \"Moderate\" : 1, \"Far\" : 0, \"Male\" : 0, \"Female\" : 1, \"Yes\" : 1, \"No\" : 0}, inplace=True)\n",
    "df.to_csv(\"Clean_Data.csv\", index=True)\n",
    "\n",
    "## split into fold sections\n",
    "\n",
    "split_data = util.splitData(\"Clean_Data.csv\", 10)\n",
    "test_data = split_data[0]\n",
    "split_data = split_data[1]\n",
    "myKnn = KNN.KNN(\"Regression\", 5)\n",
    "\n",
    "\n"
   ]
  },
  {
   "cell_type": "markdown",
   "id": "2baa4406",
   "metadata": {},
   "source": [
    "Now we're going to run the analysis on each fold"
   ]
  },
  {
   "cell_type": "code",
   "execution_count": 138,
   "id": "b8f9c1a9",
   "metadata": {},
   "outputs": [
    {
     "name": "stdout",
     "output_type": "stream",
     "text": [
      "Average fscore 0.006\n"
     ]
    }
   ],
   "source": [
    "cumulative_fscores = 0\n",
    "for i in range(len(split_data)):\n",
    "    ## for each fold, where the ith index of split_data is the test data\n",
    "    x_labels = []\n",
    "    y_values = []\n",
    "    for j in range(len(split_data)):\n",
    "\n",
    "        ## collecting training data from [not test] arrays\n",
    "        if (i != j):\n",
    "            for k in range(len(split_data[j])): \n",
    "                x_labels.append(split_data[j][k][:-1])\n",
    "                y_values.append(split_data[j][k][-1])\n",
    "\n",
    "    ## now we have x_labels and y_values, so let's fit\n",
    "    myKnn.fit(x_labels, y_values)\n",
    "\n",
    "    ## now let's test on the test fold\n",
    "    pred = []\n",
    "    true = []\n",
    "    for j in range(len(split_data[i])):\n",
    "        pred.append(myKnn.predict(split_data[i][j][:-1]))\n",
    "        true.append(split_data[i][j][-1])\n",
    "    \n",
    "    ## now let's compare values and get an f-score\n",
    "    pred = np.array(pred)\n",
    "    true = np.array(true)\n",
    "    evaluation = util.fscore(pred, true, 1)\n",
    "    cumulative_fscores += evaluation\n",
    "\n",
    "## time to average cumulative_fscores\n",
    "print(\"Average fscore\", str(cumulative_fscores/len(split_data)))\n",
    "\n"
   ]
  },
  {
   "cell_type": "markdown",
   "id": "b7227cf4",
   "metadata": {},
   "source": [
    "Now, we evaluate chosen hyperparameters and feature set on test_set"
   ]
  },
  {
   "cell_type": "code",
   "execution_count": 139,
   "id": "dc8de284",
   "metadata": {},
   "outputs": [
    {
     "name": "stdout",
     "output_type": "stream",
     "text": [
      "0.0\n"
     ]
    }
   ],
   "source": [
    "pred = []\n",
    "true = []\n",
    "for j in range(len(test_data)):\n",
    "    pred.append(myKnn.predict(test_data[j][:-1]))\n",
    "    true.append(test_data[j][-1])\n",
    "\n",
    "## now let's compare values and get an f-score\n",
    "pred = np.array(pred)\n",
    "true = np.array(true)\n",
    "evaluation = util.fscore(pred, true, 1)\n",
    "print(evaluation)"
   ]
  }
 ],
 "metadata": {
  "kernelspec": {
   "display_name": "Python 3",
   "language": "python",
   "name": "python3"
  },
  "language_info": {
   "codemirror_mode": {
    "name": "ipython",
    "version": 3
   },
   "file_extension": ".py",
   "mimetype": "text/x-python",
   "name": "python",
   "nbconvert_exporter": "python",
   "pygments_lexer": "ipython3",
   "version": "3.9.6"
  }
 },
 "nbformat": 4,
 "nbformat_minor": 5
}
