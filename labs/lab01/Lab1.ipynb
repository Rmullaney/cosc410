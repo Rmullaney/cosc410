{
 "cells": [
  {
   "cell_type": "markdown",
   "id": "69183f49-adde-4f87-9ac7-2c06aadae494",
   "metadata": {},
   "source": [
    "# Lab 1: Intro to Pandas and Data Handling\n",
    "\n",
    "### COSC 410B: Spring 2025, Colgate University\n",
    "\n",
    "The goal of this lab is to introduce you to some tools you will be using in this class. Since this is a 400-level class that is designed to encourage indepdnent work,this will not show you how to do things, but will ask you to look up how to do things you might not already know. Don't hesitate to reach out if you are stuck!"
   ]
  },
  {
   "cell_type": "markdown",
   "id": "544cec79-7642-401b-a0ed-e3c87d9d8d00",
   "metadata": {},
   "source": [
    "## Part 1: Python notebooks and setup"
   ]
  },
  {
   "cell_type": "markdown",
   "id": "cf1fd12e-f884-4aee-8ca0-012d77b4f8d7",
   "metadata": {},
   "source": [
    "### Briefly answer the following questions:\n",
    "\n",
    "1. What is the difference between a raw cell, markdown cell and a python cell in an ipython notebook?\n",
    "2. What are some different ways you can run a cell? Which one do you think you'll use? \n",
    "3. How can you move cells around?\n",
    "4. What are the differences in the control flow (i.e., the order in which code is executed) and memory in a `.ipynb` notebook vs. running python code in a `.py` file?"
   ]
  },
  {
   "cell_type": "markdown",
   "id": "103c433a-908e-4ce5-a62e-97d8b1d4c8b3",
   "metadata": {},
   "source": [
    "**[WRITE YOUR ANSWER IN THIS CHUNK]**"
   ]
  },
  {
   "cell_type": "code",
   "execution_count": null,
   "id": "d3b4ab97-5dce-425b-9946-394700d977fb",
   "metadata": {},
   "outputs": [],
   "source": [
    "# Import relevant packages\n",
    "import pandas as pd\n",
    "import numpy as np\n",
    "import seaborn as sns\n",
    "import matplotlib.pyplot as plt"
   ]
  },
  {
   "cell_type": "markdown",
   "id": "16e90a78-9b7f-4e85-899c-45888ba35700",
   "metadata": {},
   "source": [
    "## Part 2: Working with data\n",
    "\n",
    "Pandas is a useful package for working with data in \"dataframes\". \n",
    "\n",
    "### Loading data"
   ]
  },
  {
   "cell_type": "code",
   "execution_count": null,
   "id": "e34a83d2-76d4-4c1e-84c4-75d5a57bf54b",
   "metadata": {},
   "outputs": [],
   "source": [
    "## Load data from titanic.csv into a dataframe\n",
    "\n",
    "\n",
    "## Print the number of rows in the dataframe\n",
    "\n",
    "\n",
    "## Print the number of columns in the dataframe\n",
    "\n",
    "\n",
    "## Display the first 10 rows of the dataframe\n"
   ]
  },
  {
   "cell_type": "markdown",
   "id": "b0c7e86d-654b-46d0-bc64-496fd36e0594",
   "metadata": {},
   "source": [
    "### Data exploration\n",
    "\n",
    "Add code chunks below that use pandas functions and methods to answer the following questions. Add a separate code chunk for each question. \n",
    "\n",
    "1. Is the number of women who survived greater than the number of men who survived?\n",
    "2. Is the proportion of women who survived greater than the proportion of men who survived?\n",
    "3. What are the average ages of the people who survived and did not surive?\n",
    "4. What are the average fares of the people who survived and did not survive?\n",
    "\n",
    "**Hints:**\n",
    "* Working with pandas is very different from working in python. So it might help to first write out what format you need the data in or what computations you need to perform over the data before trying to write code.\n",
    "* `groupby`, `agg` and `map` in pandas will be useful!\n",
    "\n",
    "**Once you've written the code, talk to me to get feedback on the code structure and style!**"
   ]
  },
  {
   "cell_type": "markdown",
   "id": "fc71331f-4aab-4c45-b96b-a787f775d4af",
   "metadata": {},
   "source": [
    "### Data plotting\n",
    "\n",
    "Use seaborn (or matplotlib if you really want to) to generate the following plots. Add a separate code chunk for each plot. \n",
    "\n",
    "1. Plot the ages of men and women in a way that makes it easy to compare them.\n",
    "2. Plot the ages of men and women who survived and did not in a way that makes it easy to compare them.\n",
    "3. Plot the correlation between age of passengers and fare.\n",
    "4. Plot the correlation between age of passengers are fare separated by sex.\n",
    "\n",
    "**Hints**\n",
    "There are different ways of differentiating factors: color, facet, shape etc. And there are different types of plots (histogram, scatterplot, box and whisker etc). For each plot it might help to first draw out on paper what type of plot you want to create before trying to code it up. \n",
    "\n",
    "**Once you've generated the plots, talk to me to get feedback!**"
   ]
  },
  {
   "cell_type": "markdown",
   "id": "fc5a1c7a-83ea-4758-a4c3-8ce0e5425b88",
   "metadata": {},
   "source": [
    "## Part 3: Freeform exploration\n",
    "\n",
    "Find a dataset from the internet that you find interesting (e.g., from [Kaggle](https://www.kaggle.com/)), explore the dataset by generating plots and computing summaries, and describe *some* insight(s) from the dataset. \n",
    "\n",
    "**Bonus:** Justify what you find the dataset and the insight interesting :) "
   ]
  }
 ],
 "metadata": {
  "kernelspec": {
   "display_name": "Python 3 (ipykernel)",
   "language": "python",
   "name": "python3"
  },
  "language_info": {
   "codemirror_mode": {
    "name": "ipython",
    "version": 3
   },
   "file_extension": ".py",
   "mimetype": "text/x-python",
   "name": "python",
   "nbconvert_exporter": "python",
   "pygments_lexer": "ipython3",
   "version": "3.10.14"
  }
 },
 "nbformat": 4,
 "nbformat_minor": 5
}
